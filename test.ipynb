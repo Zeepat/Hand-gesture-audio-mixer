{
 "cells": [
  {
   "cell_type": "code",
   "execution_count": 3,
   "metadata": {},
   "outputs": [
    {
     "name": "stdout",
     "output_type": "stream",
     "text": [
      "Camera index 0 failed to capture a frame.\n",
      "Camera index 1 is working.\n",
      "Camera index 2 is working.\n",
      "Camera index 3 is working.\n",
      "Camera index 4 is working.\n",
      "Camera index 5 cannot be opened.\n",
      "Camera index 6 cannot be opened.\n",
      "Camera index 7 cannot be opened.\n",
      "Camera index 8 cannot be opened.\n",
      "Camera index 9 cannot be opened.\n"
     ]
    }
   ],
   "source": [
    "import cv2\n",
    "\n",
    "def test_camera(index):\n",
    "    cap = cv2.VideoCapture(index)\n",
    "    if not cap.isOpened():\n",
    "        print(f\"Camera index {index} cannot be opened.\")\n",
    "        return\n",
    "    ret, frame = cap.read()\n",
    "    if ret:\n",
    "        print(f\"Camera index {index} is working.\")\n",
    "    else:\n",
    "        print(f\"Camera index {index} failed to capture a frame.\")\n",
    "    cap.release()\n",
    "\n",
    "for i in range(10):  # test the first three indices\n",
    "    test_camera(i)\n"
   ]
  },
  {
   "cell_type": "code",
   "execution_count": 5,
   "metadata": {},
   "outputs": [
    {
     "name": "stdout",
     "output_type": "stream",
     "text": [
      "Available Cameras:\n",
      "0: ProXtend\n",
      "1: Camo\n",
      "2: DroidCam Source 3\n",
      "3: DroidCam Source 2\n",
      "4: OBS Virtual Camera\n"
     ]
    }
   ],
   "source": [
    "from pygrabber.dshow_graph import FilterGraph\n",
    "\n",
    "graph = FilterGraph()\n",
    "devices = graph.get_input_devices()\n",
    "print(\"Available Cameras:\")\n",
    "for idx, device in enumerate(devices):\n",
    "    print(f\"{idx}: {device}\")\n"
   ]
  },
  {
   "cell_type": "code",
   "execution_count": 6,
   "metadata": {},
   "outputs": [
    {
     "name": "stdout",
     "output_type": "stream",
     "text": [
      "Camera with index 0 opened successfully.\n"
     ]
    }
   ],
   "source": [
    "import cv2\n",
    "\n",
    "# Open the camera at index 0.\n",
    "cap = cv2.VideoCapture(0)\n",
    "\n",
    "if not cap.isOpened():\n",
    "    print(\"Error: Could not open camera with index 0.\")\n",
    "else:\n",
    "    print(\"Camera with index 0 opened successfully.\")\n"
   ]
  },
  {
   "cell_type": "code",
   "execution_count": 7,
   "metadata": {},
   "outputs": [
    {
     "name": "stdout",
     "output_type": "stream",
     "text": [
      "CAP_PROP_BRIGHTNESS: -57.0\n",
      "CAP_PROP_CONTRAST: 23.0\n",
      "CAP_PROP_SATURATION: 46.0\n",
      "CAP_PROP_HUE: 168.0\n",
      "CAP_PROP_EXPOSURE: -7.0\n",
      "CAP_PROP_GAIN: 80.0\n"
     ]
    }
   ],
   "source": [
    "import cv2\n",
    "\n",
    "cap = cv2.VideoCapture(0, cv2.CAP_DSHOW)\n",
    "\n",
    "# Wait a moment for the camera to initialize.\n",
    "cap.read()\n",
    "\n",
    "# List of common properties you can check.\n",
    "properties = {\n",
    "    \"CAP_PROP_BRIGHTNESS\": cv2.CAP_PROP_BRIGHTNESS,\n",
    "    \"CAP_PROP_CONTRAST\": cv2.CAP_PROP_CONTRAST,\n",
    "    \"CAP_PROP_SATURATION\": cv2.CAP_PROP_SATURATION,\n",
    "    \"CAP_PROP_HUE\": cv2.CAP_PROP_HUE,\n",
    "    \"CAP_PROP_EXPOSURE\": cv2.CAP_PROP_EXPOSURE,\n",
    "    \"CAP_PROP_GAIN\": cv2.CAP_PROP_GAIN,\n",
    "}\n",
    "\n",
    "for prop_name, prop_id in properties.items():\n",
    "    value = cap.get(prop_id)\n",
    "    print(f\"{prop_name}: {value}\")\n",
    "\n",
    "cap.release()\n"
   ]
  }
 ],
 "metadata": {
  "kernelspec": {
   "display_name": ".venv",
   "language": "python",
   "name": "python3"
  },
  "language_info": {
   "codemirror_mode": {
    "name": "ipython",
    "version": 3
   },
   "file_extension": ".py",
   "mimetype": "text/x-python",
   "name": "python",
   "nbconvert_exporter": "python",
   "pygments_lexer": "ipython3",
   "version": "3.11.10"
  }
 },
 "nbformat": 4,
 "nbformat_minor": 2
}
